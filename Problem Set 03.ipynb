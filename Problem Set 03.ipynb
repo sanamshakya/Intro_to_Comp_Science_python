{
 "metadata": {
  "name": "",
  "signature": "sha256:85b0b713372b59f9b1ce055d1e7c2f8e7e89a3f987d2cd7a940db6f47fbbbf49"
 },
 "nbformat": 3,
 "nbformat_minor": 0,
 "worksheets": [
  {
   "cells": [
    {
     "cell_type": "markdown",
     "metadata": {},
     "source": [
      "# RADIATION EXPOSURE  (25/25 points)\n",
      "\"Radioactive decay\" is the process by which an unstable atom loses energy and emits ionizing particles - what is commonly refered to as radiation. Exposure to radiation can be dangerous and is very important to measure to ensure that one is not exposed to too terribly much of it.\n",
      "\n",
      "The radioactivity of a material decreases over time, as the material decays. A radioactive decay curve describes this decay. The x-axis measures time, and the y-axis measures the amount of activity produced by the radioactive sample. 'Activity' is defined as the rate at which the nuclei within the sample undergo transititions - put simply, this measures how much radiation is emitted at any one point in time. The measurement of activity is called the Becquerel (Bq). Here is a sample radioactive decay curve:"
     ]
    },
    {
     "cell_type": "code",
     "collapsed": false,
     "input": [
      "def f(x):\n",
      "    import math\n",
      "    return 10*math.e**(math.log(0.5)/5.27 * x)\n",
      "\n",
      "def radiationExposure(start, stop, step):\n",
      "    '''\n",
      "    Computes and returns the amount of radiation exposed\n",
      "    to between the start and stop times. Calls the \n",
      "    function f (defined for you in the grading script)\n",
      "    to obtain the value of the function at any point.\n",
      " \n",
      "    start: integer, the time at which exposure begins\n",
      "    stop: integer, the time at which exposure ends\n",
      "    step: float, the width of each rectangle. You can assume that\n",
      "      the step size will always partition the space evenly.\n",
      "\n",
      "    returns: float, the amount of radiation exposed to \n",
      "      between start and stop times.\n",
      "    '''\n",
      "    count = 0\n",
      "    x2 = start + count * step\n",
      "    area = 0\n",
      "    while (x2<stop):\n",
      "        y = f (x2)\n",
      "        area = area + y * step\n",
      "        \n",
      "        count +=1\n",
      "        x2 = start + count * step\n",
      "    return area\n",
      "        \n",
      "    "
     ],
     "language": "python",
     "metadata": {},
     "outputs": [],
     "prompt_number": 3
    },
    {
     "cell_type": "code",
     "collapsed": false,
     "input": [
      "radiationExposure(0, 5, 1)"
     ],
     "language": "python",
     "metadata": {},
     "outputs": [
      {
       "metadata": {},
       "output_type": "pyout",
       "prompt_number": 4,
       "text": [
        "39.10318784326239"
       ]
      }
     ],
     "prompt_number": 4
    },
    {
     "cell_type": "code",
     "collapsed": false,
     "input": [
      "radiationExposure(0, 11, 1)"
     ],
     "language": "python",
     "metadata": {},
     "outputs": [
      {
       "metadata": {},
       "output_type": "pyout",
       "prompt_number": 5,
       "text": [
        "62.045598253839096"
       ]
      }
     ],
     "prompt_number": 5
    },
    {
     "cell_type": "code",
     "collapsed": false,
     "input": [
      "radiationExposure(40, 100, 1.5)"
     ],
     "language": "python",
     "metadata": {},
     "outputs": [
      {
       "metadata": {},
       "output_type": "pyout",
       "prompt_number": 6,
       "text": [
        "0.4346123561149849"
       ]
      }
     ],
     "prompt_number": 6
    },
    {
     "cell_type": "markdown",
     "metadata": {},
     "source": [
      "# A WORDGAME: HANGMAN\n",
      "\n",
      "Note: Do not be intimidated by this problem! It's actually easier than it looks. We will 'scaffold' this problem, guiding you through the creation of helper functions before you implement the actual game.\n",
      "\n",
      "For this problem, you will implement a variation of the classic wordgame Hangman. For those of you who are unfamiliar with the rules, you may read all about it here. In this problem, the second player will always be the computer, who will be picking a word at random.\n",
      "\n",
      "In this problem, you will implement a function, called hangman, that will start up and carry out an interactive Hangman game between a player and the computer. Before we get to this function, we'll first implement a few helper functions to get you going."
     ]
    },
    {
     "cell_type": "code",
     "collapsed": false,
     "input": [
      "secretWord = 'apple'\n",
      "lettersGuessed = ['e', 'i', 'k', 'p', 'r', 's']"
     ],
     "language": "python",
     "metadata": {},
     "outputs": [],
     "prompt_number": 7
    },
    {
     "cell_type": "markdown",
     "metadata": {},
     "source": [
      "# HANGMAN PART 1: IS THE WORD GUESSED?  (5/5 points)\n",
      "Please read the Hangman Introduction before starting this problem. The helper functions you will be creating in the next three exercises are simply suggestions, but you DO have to implement them if you want to get points for this Hangman Problem Set. If you'd prefer to structure your Hangman program in a different way, feel free to redo this Problem Set in a different way. However, if you're new to programming, or at a loss of how to construct this program, we strongly suggest that you implement the next three helper functions before continuing on to Hangman Part 2.\n",
      "\n",
      "We'll start by writing 3 simple functions that will help us easily code the Hangman problem. First, implement the function isWordGuessed that takes in two parameters - a string, secretWord, and a list of letters, lettersGuessed. This function returns a boolean - True if secretWord has been guessed (ie, all the letters of secretWord are in lettersGuessed) and False otherwise."
     ]
    },
    {
     "cell_type": "code",
     "collapsed": false,
     "input": [
      "def isWordGuessed(secretWord, lettersGuessed):\n",
      "    '''\n",
      "    secretWord: string, the word the user is guessing\n",
      "    lettersGuessed: list, what letters have been guessed so far\n",
      "    returns: boolean, True if all the letters of secretWord are in lettersGuessed;\n",
      "      False otherwise\n",
      "    '''\n",
      "    # FILL IN YOUR CODE HERE...\n",
      "    inference = True\n",
      "    for alpha in lettersGuessed:\n",
      "        inference = inference & (alpha in secretWord)\n",
      "    return inference"
     ],
     "language": "python",
     "metadata": {},
     "outputs": []
    },
    {
     "cell_type": "code",
     "collapsed": false,
     "input": [
      "isWordGuessed(secretWord, lettersGuessed)"
     ],
     "language": "python",
     "metadata": {},
     "outputs": [
      {
       "metadata": {},
       "output_type": "pyout",
       "prompt_number": 15,
       "text": [
        "False"
       ]
      }
     ],
     "prompt_number": 15
    },
    {
     "cell_type": "code",
     "collapsed": false,
     "input": [
      "isWordGuessed('mangosteen', ['z', 'x', 'q', 'm', 'a', 'n', 'g', 'o', 's', 't', 'e', 'e', 'n'])"
     ],
     "language": "python",
     "metadata": {},
     "outputs": [
      {
       "metadata": {},
       "output_type": "pyout",
       "prompt_number": 16,
       "text": [
        "True"
       ]
      }
     ],
     "prompt_number": 16
    },
    {
     "cell_type": "code",
     "collapsed": false,
     "input": [
      "def isWordGuessed(secretWord, lettersGuessed):\n",
      "    '''\n",
      "    secretWord: string, the word the user is guessing\n",
      "    lettersGuessed: list, what letters have been guessed so far\n",
      "    returns: boolean, True if all the letters of secretWord are in lettersGuessed;\n",
      "      False otherwise\n",
      "    '''\n",
      "    # FILL IN YOUR CODE HERE...\n",
      "    count = 0\n",
      "    for alpha in lettersGuessed:\n",
      "        if (alpha in secretWord):\n",
      "            count += 1\n",
      "    return (count == len(secretWord))\n",
      "    \n",
      "    \n",
      "\n",
      "            "
     ],
     "language": "python",
     "metadata": {},
     "outputs": [],
     "prompt_number": 12
    },
    {
     "cell_type": "code",
     "collapsed": false,
     "input": [
      "isWordGuessed(secretWord, lettersGuessed)"
     ],
     "language": "python",
     "metadata": {},
     "outputs": [
      {
       "metadata": {},
       "output_type": "pyout",
       "prompt_number": 13,
       "text": [
        "False"
       ]
      }
     ],
     "prompt_number": 13
    },
    {
     "cell_type": "code",
     "collapsed": false,
     "input": [
      "isWordGuessed('mangosteen', ['z', 'x', 'q', 'm', 'a', 'n', 'g', 'o', 's', 't', 'e', 'e', 'n'])"
     ],
     "language": "python",
     "metadata": {},
     "outputs": [
      {
       "metadata": {},
       "output_type": "pyout",
       "prompt_number": 14,
       "text": [
        "True"
       ]
      }
     ],
     "prompt_number": 14
    },
    {
     "cell_type": "code",
     "collapsed": false,
     "input": [
      "secretWord "
     ],
     "language": "python",
     "metadata": {},
     "outputs": [
      {
       "metadata": {},
       "output_type": "pyout",
       "prompt_number": 17,
       "text": [
        "'apple'"
       ]
      }
     ],
     "prompt_number": 17
    },
    {
     "cell_type": "markdown",
     "metadata": {},
     "source": [
      "# PRINTING OUT THE USER'S GUESS  (5/5 points)\n",
      "Next, implement the function getGuessedWord that takes in two parameters - a string, secretWord, and a list of letters, lettersGuessed. This function returns a string that is comprised of letters and underscores, based on what letters in lettersGuessed are in secretWord. This shouldn't be too different from isWordGuessed!"
     ]
    },
    {
     "cell_type": "code",
     "collapsed": false,
     "input": [
      "blanks = \" \"\n",
      "wordInit = \"\"\n",
      "for i in secretWord:\n",
      "    wordInit= wordInit + blanks\n",
      "print wordInit"
     ],
     "language": "python",
     "metadata": {},
     "outputs": [
      {
       "output_type": "stream",
       "stream": "stdout",
       "text": [
        "     \n"
       ]
      }
     ],
     "prompt_number": 31
    },
    {
     "cell_type": "code",
     "collapsed": false,
     "input": [
      "len(wordInit)"
     ],
     "language": "python",
     "metadata": {},
     "outputs": [
      {
       "metadata": {},
       "output_type": "pyout",
       "prompt_number": 32,
       "text": [
        "5"
       ]
      }
     ],
     "prompt_number": 32
    },
    {
     "cell_type": "code",
     "collapsed": false,
     "input": [
      "blanks = \" \"\n",
      "wordInit = \"\"\n",
      "for i in secretWord:\n",
      "    wordInit= wordInit + blanks\n",
      "\n",
      "for alpha in lettersGuessed:\n",
      "    index = secretWord.find(alpha)\n",
      "    if index > 0:\n",
      "        wordInit[index] = alpha\n",
      "    \n",
      "print wordInit\n"
     ],
     "language": "python",
     "metadata": {},
     "outputs": [
      {
       "ename": "TypeError",
       "evalue": "'str' object does not support item assignment",
       "output_type": "pyerr",
       "traceback": [
        "\u001b[1;31m---------------------------------------------------------------------------\u001b[0m\n\u001b[1;31mTypeError\u001b[0m                                 Traceback (most recent call last)",
        "\u001b[1;32m<ipython-input-35-8ad8f6362bca>\u001b[0m in \u001b[0;36m<module>\u001b[1;34m()\u001b[0m\n\u001b[0;32m      7\u001b[0m     \u001b[0mindex\u001b[0m \u001b[1;33m=\u001b[0m \u001b[0msecretWord\u001b[0m\u001b[1;33m.\u001b[0m\u001b[0mfind\u001b[0m\u001b[1;33m(\u001b[0m\u001b[0malpha\u001b[0m\u001b[1;33m)\u001b[0m\u001b[1;33m\u001b[0m\u001b[0m\n\u001b[0;32m      8\u001b[0m     \u001b[1;32mif\u001b[0m \u001b[0mindex\u001b[0m \u001b[1;33m>\u001b[0m \u001b[1;36m0\u001b[0m\u001b[1;33m:\u001b[0m\u001b[1;33m\u001b[0m\u001b[0m\n\u001b[1;32m----> 9\u001b[1;33m         \u001b[0mwordInit\u001b[0m\u001b[1;33m[\u001b[0m\u001b[0mindex\u001b[0m\u001b[1;33m]\u001b[0m \u001b[1;33m=\u001b[0m \u001b[0malpha\u001b[0m\u001b[1;33m\u001b[0m\u001b[0m\n\u001b[0m\u001b[0;32m     10\u001b[0m \u001b[1;33m\u001b[0m\u001b[0m\n\u001b[0;32m     11\u001b[0m \u001b[1;32mprint\u001b[0m \u001b[0mwordInit\u001b[0m\u001b[1;33m\u001b[0m\u001b[0m\n",
        "\u001b[1;31mTypeError\u001b[0m: 'str' object does not support item assignment"
       ]
      }
     ],
     "prompt_number": 35
    },
    {
     "cell_type": "code",
     "collapsed": false,
     "input": [
      "wordInit[0] = '1'\n"
     ],
     "language": "python",
     "metadata": {},
     "outputs": [
      {
       "ename": "TypeError",
       "evalue": "'str' object does not support item assignment",
       "output_type": "pyerr",
       "traceback": [
        "\u001b[1;31m---------------------------------------------------------------------------\u001b[0m\n\u001b[1;31mTypeError\u001b[0m                                 Traceback (most recent call last)",
        "\u001b[1;32m<ipython-input-38-46430bb80d67>\u001b[0m in \u001b[0;36m<module>\u001b[1;34m()\u001b[0m\n\u001b[1;32m----> 1\u001b[1;33m \u001b[0mwordInit\u001b[0m\u001b[1;33m[\u001b[0m\u001b[1;36m0\u001b[0m\u001b[1;33m]\u001b[0m \u001b[1;33m=\u001b[0m \u001b[1;34m'1'\u001b[0m\u001b[1;33m\u001b[0m\u001b[0m\n\u001b[0m",
        "\u001b[1;31mTypeError\u001b[0m: 'str' object does not support item assignment"
       ]
      }
     ],
     "prompt_number": 38
    },
    {
     "cell_type": "code",
     "collapsed": false,
     "input": [
      "'e' in secretWord"
     ],
     "language": "python",
     "metadata": {},
     "outputs": [
      {
       "metadata": {},
       "output_type": "pyout",
       "prompt_number": 26,
       "text": [
        "True"
       ]
      }
     ],
     "prompt_number": 26
    },
    {
     "cell_type": "code",
     "collapsed": false,
     "input": [
      "'e' in secretWord"
     ],
     "language": "python",
     "metadata": {},
     "outputs": [
      {
       "metadata": {},
       "output_type": "pyout",
       "prompt_number": 39,
       "text": [
        "True"
       ]
      }
     ],
     "prompt_number": 39
    },
    {
     "cell_type": "code",
     "collapsed": false,
     "input": [
      "guessedWord = \"\"\n",
      "for alpha in secretWord:\n",
      "    if alpha in lettersGuessed:\n",
      "        guessedWord= guessedWord + alpha\n",
      "    else :\n",
      "        guessedWord = guessedWord + \"_ \"\n",
      "print guessedWord\n",
      "    \n",
      "    \n",
      "\n"
     ],
     "language": "python",
     "metadata": {},
     "outputs": [
      {
       "output_type": "stream",
       "stream": "stdout",
       "text": [
        "_ pp_ e\n"
       ]
      }
     ],
     "prompt_number": 43
    },
    {
     "cell_type": "markdown",
     "metadata": {},
     "source": [
      "# PRINTING OUT ALL AVAILABLE LETTERS  (5/5 points)\n",
      "Next, implement the function getAvailableLetters that takes in one parameter - a list of letters, lettersGuessed. This function returns a string that is comprised of lowercase English letters - all lowercase English letters that are not in lettersGuessed.\n",
      "\n",
      "Example Usage:"
     ]
    },
    {
     "cell_type": "code",
     "collapsed": false,
     "input": [
      "import string\n",
      "wholeAlpha = string.ascii_lowercase"
     ],
     "language": "python",
     "metadata": {},
     "outputs": [],
     "prompt_number": 45
    },
    {
     "cell_type": "code",
     "collapsed": false,
     "input": [
      "remainAlpha = \"\"\n",
      "for alpha in wholeAlpha:\n",
      "    if alpha in lettersGuessed:\n",
      "        remainAlpha = remainAlpha \n",
      "    else :\n",
      "        remainAlpha = remainAlpha + alpha\n",
      "print remainAlpha"
     ],
     "language": "python",
     "metadata": {},
     "outputs": [
      {
       "output_type": "stream",
       "stream": "stdout",
       "text": [
        "abcdfghjlmnoqtuvwxyz\n"
       ]
      }
     ],
     "prompt_number": 46
    },
    {
     "cell_type": "markdown",
     "metadata": {},
     "source": [
      "# Hangman"
     ]
    },
    {
     "cell_type": "code",
     "collapsed": false,
     "input": [
      "# 6.00 Problem Set 3\n",
      "# \n",
      "# Hangman game\n",
      "#\n",
      "\n",
      "# -----------------------------------\n",
      "# Helper code\n",
      "# You don't need to understand this helper code,\n",
      "# but you will have to know how to use the functions\n",
      "# (so be sure to read the docstrings!)\n",
      "\n",
      "import random\n",
      "import string\n",
      "\n",
      "WORDLIST_FILENAME = \"words.txt\"\n",
      "\n",
      "def loadWords():\n",
      "    \"\"\"\n",
      "    Returns a list of valid words. Words are strings of lowercase letters.\n",
      "    \n",
      "    Depending on the size of the word list, this function may\n",
      "    take a while to finish.\n",
      "    \"\"\"\n",
      "    print \"Loading word list from file...\"\n",
      "    # inFile: file\n",
      "    inFile = open(WORDLIST_FILENAME, 'r', 0)\n",
      "    # line: string\n",
      "    line = inFile.readline()\n",
      "    # wordlist: list of strings\n",
      "    wordlist = string.split(line)\n",
      "    print \"  \", len(wordlist), \"words loaded.\"\n",
      "    return wordlist\n",
      "\n",
      "def chooseWord(wordlist):\n",
      "    \"\"\"\n",
      "    wordlist (list): list of words (strings)\n",
      "\n",
      "    Returns a word from wordlist at random\n",
      "    \"\"\"\n",
      "    return random.choice(wordlist)\n",
      "\n",
      "# end of helper code\n",
      "# -----------------------------------\n",
      "\n",
      "# Load the list of words into the variable wordlist\n",
      "# so that it can be accessed from anywhere in the program\n",
      "wordlist = loadWords()\n",
      "\n",
      "def isWordGuessed(secretWord, lettersGuessed):\n",
      "    '''\n",
      "    secretWord: string, the word the user is guessing\n",
      "    lettersGuessed: list, what letters have been guessed so far\n",
      "    returns: boolean, True if all the letters of secretWord are in lettersGuessed;\n",
      "      False otherwise\n",
      "    '''\n",
      "    # FILL IN YOUR CODE HERE...\n",
      "    count = 0\n",
      "    for alpha in lettersGuessed:\n",
      "        if (alpha in secretWord):\n",
      "            count += 1\n",
      "    return (count == len(secretWord))\n",
      "    \n",
      "    \n",
      "\n",
      "\n",
      "\n",
      "\n",
      "def getGuessedWord(secretWord, lettersGuessed):\n",
      "    '''\n",
      "    secretWord: string, the word the user is guessing\n",
      "    lettersGuessed: list, what letters have been guessed so far\n",
      "    returns: string, comprised of letters and underscores that represents\n",
      "      what letters in secretWord have been guessed so far.\n",
      "    '''\n",
      "    # FILL IN YOUR CODE HERE...\n",
      "    guessedWord = \"\"\n",
      "    for alpha in secretWord:\n",
      "        if alpha in lettersGuessed:\n",
      "            guessedWord= guessedWord + alpha\n",
      "        else :\n",
      "            guessedWord = guessedWord + \"_ \"\n",
      "    \n",
      "    return guessedWord\n",
      "\n",
      "\n",
      "def getAvailableLetters(lettersGuessed):\n",
      "    '''\n",
      "    lettersGuessed: list, what letters have been guessed so far\n",
      "    returns: string, comprised of letters that represents what letters have not\n",
      "      yet been guessed.\n",
      "    '''\n",
      "    # FILL IN YOUR CODE HERE...\n",
      "    #import string\n",
      "    wholeAlpha = string.ascii_lowercase\n",
      "    remainAlpha = \"\"\n",
      "    for alpha in wholeAlpha:\n",
      "        if alpha in lettersGuessed:\n",
      "            remainAlpha = remainAlpha \n",
      "        else :\n",
      "            remainAlpha = remainAlpha + alpha\n",
      "    return remainAlpha\n",
      "\n",
      "    \n",
      "\n",
      "def hangman(secretWord):\n",
      "    '''\n",
      "    secretWord: string, the secret word to guess.\n",
      "\n",
      "    Starts up an interactive game of Hangman.\n",
      "\n",
      "    * At the start of the game, let the user know how many \n",
      "      letters the secretWord contains.\n",
      "\n",
      "    * Ask the user to supply one guess (i.e. letter) per round.\n",
      "\n",
      "    * The user should receive feedback immediately after each guess \n",
      "      about whether their guess appears in the computers word.\n",
      "\n",
      "    * After each round, you should also display to the user the \n",
      "      partially guessed word so far, as well as letters that the \n",
      "      user has not yet guessed.\n",
      "\n",
      "    Follows the other limitations detailed in the problem write-up.\n",
      "    '''\n",
      "    # FILL IN YOUR CODE HERE...\n",
      "    totalGuess = 8\n",
      "    availableLetters =  string.ascii_lowercase\n",
      "    lettersGuessed = []\n",
      "    #repeat = 0\n",
      "    print \"Welcome to the game, Hangman! \\r\"\n",
      "    print \"I am thinking of a word that is \"+ str(len(secretWord))+ \" letters long.\\r\"\n",
      "    print \"--------------\\r\"\n",
      "    print \"You have \"+str(totalGuess)+\" guesses left.\\r\"\n",
      "    print \"Available letters: \"+ availableLetters + \"\\r\"    \n",
      "    \n",
      "    while (1):\n",
      "        guessedAlpha= raw_input(\"Please guess a letter: \")    \n",
      "        lettersGuessed.append(guessedAlpha)\n",
      "                        \n",
      "        if guessedAlpha in availableLetters:   \n",
      "            if guessedAlpha in secretWord:\n",
      "                print \"Good Guess: \" + getGuessedWord(secretWord, lettersGuessed)+ \"\\r\"\n",
      "                print \"-----------\\r\"\n",
      "                if isWordGuessed(secretWord, lettersGuessed):\n",
      "                    break\n",
      "                                        \n",
      "                print \"You have \"+str(totalGuess)+\" guesses left.\\r\"\n",
      "                availableLetters=getAvailableLetters(lettersGuessed)\n",
      "                print \"Available letters: \"+ availableLetters + \"\\r\"             \n",
      "            \n",
      "            else:\n",
      "                print \"Oops! That letter is not in my word: \"+ getGuessedWord(secretWord, lettersGuessed)+\"\\r\"\n",
      "                print \"-------------\\r\"\n",
      "                totalGuess -=1\n",
      "                if totalGuess == 0:\n",
      "                    print \"Sorry, you ran out of guesses. The word was else.\"\n",
      "                    break\n",
      "                print \"You have \"+str(totalGuess)+\" guesses left.\\r\"\n",
      "                availableLetters=getAvailableLetters(lettersGuessed)\n",
      "                print \"Available letters: \"+availableLetters + \"\\r\"\n",
      "        else:\n",
      "            print \"Oops! You've already guessed that letter: \"+ getGuessedWord(secretWord, lettersGuessed)+\"\\r\"\n",
      "            print \"-------------\\r\"\n",
      "            print \"You have \"+str(totalGuess)+\" guesses left.\\r\"\n",
      "            availableLetters=getAvailableLetters(lettersGuessed)\n",
      "            print \"Available letters: \"+availableLetters + \"\\r\"            \n",
      "            \n",
      "    if totalGuess > 0:    \n",
      "        print \"Congratulations, you won!\\r\"\n",
      "                \n",
      "\n",
      "\n",
      "\n",
      "\n",
      "\n",
      "\n",
      "# When you've completed your hangman function, uncomment these two lines\n",
      "# and run this file to test! (hint: you might want to pick your own\n",
      "# secretWord while you're testing)\n",
      "\n",
      "# secretWord = chooseWord(wordlist).lower()\n",
      "# hangman(secretWord)\n"
     ],
     "language": "python",
     "metadata": {},
     "outputs": [
      {
       "output_type": "stream",
       "stream": "stdout",
       "text": [
        "Loading word list from file...\n",
        "  "
       ]
      },
      {
       "output_type": "stream",
       "stream": "stdout",
       "text": [
        " 55909 words loaded.\n"
       ]
      }
     ],
     "prompt_number": 1
    },
    {
     "cell_type": "code",
     "collapsed": false,
     "input": [
      "secretWord = chooseWord(wordlist).lower()"
     ],
     "language": "python",
     "metadata": {},
     "outputs": [],
     "prompt_number": 2
    },
    {
     "cell_type": "code",
     "collapsed": false,
     "input": [
      "secretWord"
     ],
     "language": "python",
     "metadata": {},
     "outputs": [
      {
       "metadata": {},
       "output_type": "pyout",
       "prompt_number": 3,
       "text": [
        "'waviest'"
       ]
      }
     ],
     "prompt_number": 3
    },
    {
     "cell_type": "code",
     "collapsed": false,
     "input": [
      "hangman(secretWord)"
     ],
     "language": "python",
     "metadata": {},
     "outputs": [
      {
       "output_type": "stream",
       "stream": "stdout",
       "text": [
        "Welcome to the game, Hangman! \r\n",
        "I am thinking of a word that is 7 letters long.\r\n",
        "--------------\r\n",
        "You have 8 guesses left.\r\n",
        "Available letters: abcdefghijklmnopqrstuvwxyz\r\n"
       ]
      },
      {
       "name": "stdout",
       "output_type": "stream",
       "stream": "stdout",
       "text": [
        "Please guess a letter: w\n"
       ]
      },
      {
       "output_type": "stream",
       "stream": "stdout",
       "text": [
        "['w']\n",
        "Good Guess: w_ _ _ _ _ _ \r\n",
        "-----------\r\n",
        "You have 8 guesses left.\r\n",
        "Available letters: abcdefghijklmnopqrstuvxyz\r\n"
       ]
      },
      {
       "name": "stdout",
       "output_type": "stream",
       "stream": "stdout",
       "text": [
        "Please guess a letter: a\n"
       ]
      },
      {
       "output_type": "stream",
       "stream": "stdout",
       "text": [
        "['w', 'a']\n",
        "Good Guess: wa_ _ _ _ _ \r\n",
        "-----------\r\n",
        "You have 8 guesses left.\r\n",
        "Available letters: bcdefghijklmnopqrstuvxyz\r\n"
       ]
      },
      {
       "name": "stdout",
       "output_type": "stream",
       "stream": "stdout",
       "text": [
        "Please guess a letter: v\n"
       ]
      },
      {
       "output_type": "stream",
       "stream": "stdout",
       "text": [
        "['w', 'a', 'v']\n",
        "Good Guess: wav_ _ _ _ \r\n",
        "-----------\r\n",
        "You have 8 guesses left.\r\n",
        "Available letters: bcdefghijklmnopqrstuxyz\r\n"
       ]
      },
      {
       "name": "stdout",
       "output_type": "stream",
       "stream": "stdout",
       "text": [
        "Please guess a letter: v\n"
       ]
      },
      {
       "output_type": "stream",
       "stream": "stdout",
       "text": [
        "['w', 'a', 'v', 'v']\n",
        "Oops! You've already guessed that letter: wav_ _ _ _ \r\n",
        "-------------\r\n",
        "You have 8 guesses left.\r\n",
        "Available letters: bcdefghijklmnopqrstuxyz\r\n"
       ]
      },
      {
       "name": "stdout",
       "output_type": "stream",
       "stream": "stdout",
       "text": [
        "Please guess a letter: i\n"
       ]
      },
      {
       "output_type": "stream",
       "stream": "stdout",
       "text": [
        "['w', 'a', 'v', 'v', 'i']\n",
        "Good Guess: wavi_ _ _ \r\n",
        "-----------\r\n",
        "You have 8 guesses left.\r\n",
        "Available letters: bcdefghjklmnopqrstuxyz\r\n"
       ]
      },
      {
       "name": "stdout",
       "output_type": "stream",
       "stream": "stdout",
       "text": [
        "Please guess a letter: e\n"
       ]
      },
      {
       "output_type": "stream",
       "stream": "stdout",
       "text": [
        "['w', 'a', 'v', 'v', 'i', 'e']\n",
        "Good Guess: wavie_ _ \r\n",
        "-----------\r\n",
        "You have 8 guesses left.\r\n",
        "Available letters: bcdfghjklmnopqrstuxyz\r\n"
       ]
      },
      {
       "name": "stdout",
       "output_type": "stream",
       "stream": "stdout",
       "text": [
        "Please guess a letter: s\n"
       ]
      },
      {
       "output_type": "stream",
       "stream": "stdout",
       "text": [
        "['w', 'a', 'v', 'v', 'i', 'e', 's']\n",
        "Good Guess: wavies_ \r\n",
        "-----------\r\n",
        "Congratulations, you won!\r\n"
       ]
      }
     ],
     "prompt_number": 8
    },
    {
     "cell_type": "code",
     "collapsed": false,
     "input": [
      "alpha= \"\"\n",
      "alpha = raw_input(\"Enter the alpha: \")"
     ],
     "language": "python",
     "metadata": {},
     "outputs": [
      {
       "name": "stdout",
       "output_type": "stream",
       "stream": "stdout",
       "text": [
        "Enter the alpha: a\n"
       ]
      }
     ],
     "prompt_number": 75
    },
    {
     "cell_type": "code",
     "collapsed": false,
     "input": [
      "alpha"
     ],
     "language": "python",
     "metadata": {},
     "outputs": [
      {
       "metadata": {},
       "output_type": "pyout",
       "prompt_number": 76,
       "text": [
        "'a'"
       ]
      }
     ],
     "prompt_number": 76
    },
    {
     "cell_type": "code",
     "collapsed": false,
     "input": [
      "test = []"
     ],
     "language": "python",
     "metadata": {},
     "outputs": [],
     "prompt_number": 14
    },
    {
     "cell_type": "code",
     "collapsed": false,
     "input": [
      "test.append('b')"
     ],
     "language": "python",
     "metadata": {},
     "outputs": [],
     "prompt_number": 17
    },
    {
     "cell_type": "code",
     "collapsed": false,
     "input": [
      "test"
     ],
     "language": "python",
     "metadata": {},
     "outputs": [
      {
       "metadata": {},
       "output_type": "pyout",
       "prompt_number": 18,
       "text": [
        "['a', 'b']"
       ]
      }
     ],
     "prompt_number": 18
    },
    {
     "cell_type": "code",
     "collapsed": false,
     "input": [],
     "language": "python",
     "metadata": {},
     "outputs": []
    }
   ],
   "metadata": {}
  }
 ]
}
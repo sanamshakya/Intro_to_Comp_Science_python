{
 "metadata": {
  "name": "lecture05_Recursion"
 },
 "nbformat": 3,
 "nbformat_minor": 0,
 "worksheets": [
  {
   "cells": [
    {
     "cell_type": "markdown",
     "metadata": {},
     "source": [
      "#Iterative algorithms cosists of \n",
      "+State variables \n",
      "++ i - iteration number starts at b etc. initialized to particular value\n",
      "++ result - current value of computation, starts at result = 0\n",
      "\n",
      "+ Update rules\n",
      "++ i <- i-1 \n",
      "++ result <- result - 1\n",
      "\n",
      "\n"
     ]
    },
    {
     "cell_type": "code",
     "collapsed": false,
     "input": [
      "def iterPower(base, exp):\n",
      "    '''\n",
      "    base: int or float.\n",
      "    exp: int >= 0\n",
      " \n",
      "    returns: int or float, base^exp\n",
      "    '''\n",
      "    \n",
      "    # Your code here\n",
      "    result = 1\n",
      "    while (exp >0):\n",
      "        exp = exp -1\n",
      "        result= result * base\n",
      "    return result\n"
     ],
     "language": "python",
     "metadata": {},
     "outputs": []
    },
    {
     "cell_type": "code",
     "collapsed": false,
     "input": [
      "iterPower(2,4)"
     ],
     "language": "python",
     "metadata": {},
     "outputs": [
      {
       "output_type": "pyout",
       "prompt_number": 2,
       "text": [
        "16"
       ]
      }
     ],
     "prompt_number": 2
    },
    {
     "cell_type": "code",
     "collapsed": false,
     "input": [],
     "language": "python",
     "metadata": {},
     "outputs": []
    }
   ],
   "metadata": {}
  }
 ]
}
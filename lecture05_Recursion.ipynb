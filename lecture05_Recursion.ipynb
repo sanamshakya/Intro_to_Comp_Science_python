{
 "metadata": {
  "name": "",
  "signature": "sha256:3b4f46dd771b781f9331ec69cef1e12ba8857a8cc5327eae49d04d1e38333f48"
 },
 "nbformat": 3,
 "nbformat_minor": 0,
 "worksheets": [
  {
   "cells": [
    {
     "cell_type": "markdown",
     "metadata": {},
     "source": [
      "#Iterative algorithms cosists of \n",
      "* **State variables** \n",
      " - i - iteration number starts at b etc. initialized to particular value\n",
      " - result - current value of computation, starts at result = 0\n",
      "\n",
      "* **Update rules**\n",
      " * i <- i-1 \n",
      " * result <- result - 1\n",
      "\n",
      "\n"
     ]
    },
    {
     "cell_type": "code",
     "collapsed": false,
     "input": [
      "def iterPower(base, exp):\n",
      "    '''\n",
      "    base: int or float.\n",
      "    exp: int >= 0\n",
      " \n",
      "    returns: int or float, base^exp\n",
      "    '''\n",
      "    \n",
      "    # Your code here\n",
      "    result = 1\n",
      "    while (exp >0):\n",
      "        exp = exp -1\n",
      "        result= result * base\n",
      "    return result\n"
     ],
     "language": "python",
     "metadata": {},
     "outputs": []
    },
    {
     "cell_type": "code",
     "collapsed": false,
     "input": [
      "iterPower(2,4)"
     ],
     "language": "python",
     "metadata": {},
     "outputs": [
      {
       "metadata": {},
       "output_type": "pyout",
       "prompt_number": 2,
       "text": [
        "16"
       ]
      }
     ],
     "prompt_number": 2
    },
    {
     "cell_type": "markdown",
     "metadata": {},
     "source": [
      "# Recursive Algorithms\n",
      "\n",
      "* Converting problem into simpler version of same problem\n",
      "> \"Reduce the problem to the simpler version of same problem plus small computation\"\n",
      "  * Recursive step\n",
      "\n",
      "* > \"keep reducing until reach the simple case which can be solve directly\"\n",
      "  * Base case\n"
     ]
    },
    {
     "cell_type": "code",
     "collapsed": false,
     "input": [
      "def recurPower(base, exp):\n",
      "    '''\n",
      "    base: int or float.\n",
      "    exp: int >= 0\n",
      " \n",
      "    returns: int or float, base^exp\n",
      "    '''\n",
      "    \n",
      "    # Your code here\n",
      "    \n",
      "    if (exp == 0):\n",
      "        return  1 #Base case\n",
      "    if (exp > 0):\n",
      "        return  base * recurPower(base, exp-1) #Recursive step\n",
      "    "
     ],
     "language": "python",
     "metadata": {},
     "outputs": [],
     "prompt_number": 7
    },
    {
     "cell_type": "code",
     "collapsed": false,
     "input": [
      "recurPower(2,1)"
     ],
     "language": "python",
     "metadata": {},
     "outputs": [
      {
       "metadata": {},
       "output_type": "pyout",
       "prompt_number": 8,
       "text": [
        "2"
       ]
      }
     ],
     "prompt_number": 8
    },
    {
     "cell_type": "code",
     "collapsed": false,
     "input": [
      "def recurPowerNew(base, exp):\n",
      "    '''\n",
      "    base: int or float.\n",
      "    exp: int >= 0\n",
      "\n",
      "    returns: int or float; base^exp\n",
      "    '''\n",
      "    # Your code here\n",
      "    if ((exp%2)==0):\n",
      "        base = base * base\n",
      "        exp = exp/2\n",
      "        result = 1\n",
      "        while (exp >0):\n",
      "            exp = exp -1\n",
      "            result= result * base\n",
      "        return result\n",
      "    if (exp == 0):\n",
      "        return  1 #Base case\n",
      "    if (exp > 0):\n",
      "        return  base * recurPowerNew(base, exp-1) #Recursive step\n",
      "    "
     ],
     "language": "python",
     "metadata": {},
     "outputs": [],
     "prompt_number": 18
    },
    {
     "cell_type": "code",
     "collapsed": false,
     "input": [
      "recurPowerNew(2,4)"
     ],
     "language": "python",
     "metadata": {},
     "outputs": [
      {
       "metadata": {},
       "output_type": "pyout",
       "prompt_number": 19,
       "text": [
        "16"
       ]
      }
     ],
     "prompt_number": 19
    },
    {
     "cell_type": "code",
     "collapsed": false,
     "input": [
      "def recurPowerNew(base, exp):\n",
      "    '''\n",
      "    base: int or float.\n",
      "    exp: int >= 0\n",
      "\n",
      "    returns: int or float; base^exp\n",
      "    '''\n",
      "    # Your code here\n",
      "    if ((exp%2)==0):\n",
      "        if ((exp == 2)):\n",
      "            return base * base\n",
      "        if (exp > 2): \n",
      "            return recurPowerNew(base*base, exp/2)\n",
      "    if (exp == 0):\n",
      "        return  1 #Base case\n",
      "    if (exp > 0):\n",
      "        return  base * recurPowerNew(base, exp-1) #Recursive step\n",
      "    "
     ],
     "language": "python",
     "metadata": {},
     "outputs": [],
     "prompt_number": 3
    },
    {
     "cell_type": "code",
     "collapsed": false,
     "input": [
      "recurPowerNew(2,5)"
     ],
     "language": "python",
     "metadata": {},
     "outputs": [
      {
       "metadata": {},
       "output_type": "pyout",
       "prompt_number": 5,
       "text": [
        "32"
       ]
      }
     ],
     "prompt_number": 5
    },
    {
     "cell_type": "markdown",
     "metadata": {},
     "source": [
      "# L5 PROBLEM 4\n",
      "The greatest common divisor of two positive integers is the largest integer that divides each of them without remainder. For example,\n",
      "\n",
      "gcd(2, 12) = 2\n",
      "\n",
      "gcd(6, 12) = 6\n",
      "\n",
      "gcd(9, 12) = 3\n",
      "\n",
      "gcd(17, 12) = 1\n",
      "\n",
      "Write an iterative function, gcdIter(a, b), that implements this idea. One easy way to do this is to begin with a test value equal to the smaller of the two input arguments, and iteratively reduce this test value by 1 until you either reach a case where the test divides both a and b without remainder, or you reach 1."
     ]
    },
    {
     "cell_type": "code",
     "collapsed": false,
     "input": [
      "def gcdIter(a, b):\n",
      "    '''\n",
      "    a, b: positive integers\n",
      "    \n",
      "    returns: a positive integer, the greatest common divisor of a & b.\n",
      "    '''\n",
      "    # Your code here\n",
      "    gcd = a\n",
      "    while (gcd > 0):\n",
      "        if ((a%gcd == 0) & (b % gcd == 0)):\n",
      "            return gcd\n",
      "        gcd = gcd -1\n"
     ],
     "language": "python",
     "metadata": {},
     "outputs": [],
     "prompt_number": 16
    },
    {
     "cell_type": "code",
     "collapsed": false,
     "input": [
      "gcdIter(12,42)"
     ],
     "language": "python",
     "metadata": {},
     "outputs": [
      {
       "metadata": {},
       "output_type": "pyout",
       "prompt_number": 19,
       "text": [
        "6"
       ]
      }
     ],
     "prompt_number": 19
    },
    {
     "cell_type": "code",
     "collapsed": false,
     "input": [
      "(10%10 == 0) & (15%10 == 0) "
     ],
     "language": "python",
     "metadata": {},
     "outputs": [
      {
       "metadata": {},
       "output_type": "pyout",
       "prompt_number": 15,
       "text": [
        "False"
       ]
      }
     ],
     "prompt_number": 15
    },
    {
     "cell_type": "markdown",
     "metadata": {},
     "source": [
      "answer :\n",
      "\n",
      "    def gcdIter(a, b):\n",
      "        '''\n",
      "        a, b: positive integers\n",
      "\n",
      "        returns: a positive integer, the greatest common divisor of a & b.\n",
      "        '''\n",
      "        testValue = min(a, b)\n",
      "\n",
      "        # Keep looping until testValue divides both a & b evenly\n",
      "        while a % testValue != 0 or b % testValue != 0:\n",
      "            testValue -= 1\n",
      "\n",
      "        return testValue"
     ]
    },
    {
     "cell_type": "code",
     "collapsed": false,
     "input": [
      "def gcdRecur(a, b):\n",
      "    '''\n",
      "    a, b: positive integers\n",
      "    \n",
      "    returns: a positive integer, the greatest common divisor of a & b.\n",
      "    '''\n",
      "    # Your code here\n",
      "    a_new = max (a,b)\n",
      "    b_new = min (a,b)\n",
      "    \n",
      "    if (b_new == 0):\n",
      "        return a_new\n",
      "    #result = a_new%b_new\n",
      "    #print result\n",
      "    return gcdRecur(b_new, a_new%b_new)\n",
      "\n",
      "    \n",
      "    \n",
      "        "
     ],
     "language": "python",
     "metadata": {},
     "outputs": [],
     "prompt_number": 34
    },
    {
     "cell_type": "code",
     "collapsed": false,
     "input": [
      "gcdRecur(24,64)"
     ],
     "language": "python",
     "metadata": {},
     "outputs": [
      {
       "metadata": {},
       "output_type": "pyout",
       "prompt_number": 39,
       "text": [
        "8"
       ]
      }
     ],
     "prompt_number": 39
    },
    {
     "cell_type": "code",
     "collapsed": false,
     "input": [
      "a = max(4,5)\n",
      "print a"
     ],
     "language": "python",
     "metadata": {},
     "outputs": [
      {
       "output_type": "stream",
       "stream": "stdout",
       "text": [
        "5\n"
       ]
      }
     ],
     "prompt_number": 24
    },
    {
     "cell_type": "code",
     "collapsed": false,
     "input": [
      "b = min(4,5)\n",
      "print b"
     ],
     "language": "python",
     "metadata": {},
     "outputs": [
      {
       "output_type": "stream",
       "stream": "stdout",
       "text": [
        "4\n"
       ]
      }
     ],
     "prompt_number": 25
    },
    {
     "cell_type": "code",
     "collapsed": false,
     "input": [
      "def recurPowerNew(base, exp):\n",
      "    '''\n",
      "    base: int or float.\n",
      "    exp: int >= 0\n",
      "\n",
      "    returns: int or float; base^exp\n",
      "    '''\n",
      "    # Base case is when exp = 0\n",
      "    if exp <= 0:\n",
      "        return 1\n",
      "\n",
      "    # Recursive case 1: exp > 0 and even\n",
      "    elif exp % 2 == 0:\n",
      "        return recurPowerNew(base*base, exp/2)\n",
      "\n",
      "    # Otherwise, exp must be > 0 and odd, so use the second\n",
      "    #  recursive case.\n",
      "    return base * recurPowerNew(base, exp - 1)"
     ],
     "language": "python",
     "metadata": {},
     "outputs": [],
     "prompt_number": 40
    },
    {
     "cell_type": "code",
     "collapsed": false,
     "input": [
      "recurPowerNew(2,8)"
     ],
     "language": "python",
     "metadata": {},
     "outputs": [
      {
       "metadata": {},
       "output_type": "pyout",
       "prompt_number": 43,
       "text": [
        "256"
       ]
      }
     ],
     "prompt_number": 43
    },
    {
     "cell_type": "markdown",
     "metadata": {},
     "source": [
      "# L5 PROBLEM 6\n",
      "Although Python provides a built-in function for computing the length of a string, we can write our own.\n",
      "\n",
      "Write an iterative function, lenIter, which computes the length of an input argument (a string), by counting up the number of characters in the string.\n"
     ]
    },
    {
     "cell_type": "code",
     "collapsed": false,
     "input": [
      "def lenIter(aStr):\n",
      "    '''\n",
      "    aStr: a string\n",
      "    \n",
      "    returns: int, the length of aStr\n",
      "    '''\n",
      "    # Your code here\n",
      "    count = 0\n",
      "        \n",
      "    for c in aStr:\n",
      "        count+=1\n",
      "        #print count\n",
      "    return count\n",
      "        \n",
      "        "
     ],
     "language": "python",
     "metadata": {},
     "outputs": [],
     "prompt_number": 11
    },
    {
     "cell_type": "code",
     "collapsed": false,
     "input": [
      "lenIter(\"test5\")"
     ],
     "language": "python",
     "metadata": {},
     "outputs": [
      {
       "output_type": "stream",
       "stream": "stdout",
       "text": [
        "1\n",
        "2\n",
        "3\n",
        "4\n",
        "5\n"
       ]
      },
      {
       "metadata": {},
       "output_type": "pyout",
       "prompt_number": 12,
       "text": [
        "5"
       ]
      }
     ],
     "prompt_number": 12
    },
    {
     "cell_type": "markdown",
     "metadata": {},
     "source": [
      "Answer:\n",
      "\n",
      "     def lenIter(aStr):\n",
      "        '''\n",
      "        aStr: a string\n",
      "\n",
      "        returns: int, the length of aStr\n",
      "        '''\n",
      "        # Initialize a variable to hold our final count\n",
      "        count = 0\n",
      "\n",
      "        # Iterate over each character in the string, counting each one\n",
      "        for char in aStr:\n",
      "            count += 1\n",
      "        return count"
     ]
    },
    {
     "cell_type": "code",
     "collapsed": false,
     "input": [],
     "language": "python",
     "metadata": {},
     "outputs": []
    },
    {
     "cell_type": "code",
     "collapsed": false,
     "input": [
      "def lenRecur(aStr):\n",
      "    '''\n",
      "    aStr: a string\n",
      "    \n",
      "    returns: int, the length of aStr\n",
      "    '''\n",
      "    # Your code here\n",
      "    if aStr == ' ':\n",
      "       return 0\n",
      "    if aStr[]:\n",
      "        return 1+lenRecur(aStr[0:1])\n",
      "    \n"
     ],
     "language": "python",
     "metadata": {},
     "outputs": [
      {
       "ename": "SyntaxError",
       "evalue": "invalid syntax (<ipython-input-15-3d45fc17aea0>, line 10)",
       "output_type": "pyerr",
       "traceback": [
        "\u001b[1;36m  File \u001b[1;32m\"<ipython-input-15-3d45fc17aea0>\"\u001b[1;36m, line \u001b[1;32m10\u001b[0m\n\u001b[1;33m    if aStr[]:\u001b[0m\n\u001b[1;37m            ^\u001b[0m\n\u001b[1;31mSyntaxError\u001b[0m\u001b[1;31m:\u001b[0m invalid syntax\n"
       ]
      }
     ],
     "prompt_number": 15
    },
    {
     "cell_type": "code",
     "collapsed": false,
     "input": [
      "def lenRecur(aStr):\n",
      "    '''\n",
      "    aStr: a string\n",
      "    \n",
      "    returns: int, the length of aStr\n",
      "    '''\n",
      "    # Base case: When aStr is the empty string,\n",
      "    #  its length is zero.\n",
      "    if aStr == '':\n",
      "        return 0\n",
      "\n",
      "    # Recursive case: If the string is not zero-length, then remove the first\n",
      "    #  character and the length is 1 + the length of the rest of the string\n",
      "    return 1 + lenRecur(aStr[1:])"
     ],
     "language": "python",
     "metadata": {},
     "outputs": [],
     "prompt_number": 16
    },
    {
     "cell_type": "code",
     "collapsed": false,
     "input": [
      "lenRecur(\"hello\")"
     ],
     "language": "python",
     "metadata": {},
     "outputs": [
      {
       "metadata": {},
       "output_type": "pyout",
       "prompt_number": 17,
       "text": [
        "5"
       ]
      }
     ],
     "prompt_number": 17
    },
    {
     "cell_type": "code",
     "collapsed": false,
     "input": [],
     "language": "python",
     "metadata": {},
     "outputs": []
    }
   ],
   "metadata": {}
  }
 ]
}
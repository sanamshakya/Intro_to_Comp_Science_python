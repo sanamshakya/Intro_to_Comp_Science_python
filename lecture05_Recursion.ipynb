{
 "metadata": {
  "name": "",
  "signature": "sha256:6dbce4118bc2c931a88a566d227d96f5b879023998cf9f0c1cd9eab5a0940047"
 },
 "nbformat": 3,
 "nbformat_minor": 0,
 "worksheets": [
  {
   "cells": [
    {
     "cell_type": "markdown",
     "metadata": {},
     "source": [
      "#Iterative algorithms cosists of \n",
      "+State variables \n",
      "++ i - iteration number starts at b etc. initialized to particular value\n",
      "++ result - current value of computation, starts at result = 0\n",
      "\n",
      "+ Update rules\n",
      "++ i <- i-1 \n",
      "++ result <- result - 1\n",
      "\n",
      "\n"
     ]
    },
    {
     "cell_type": "code",
     "collapsed": false,
     "input": [
      "def iterPower(base, exp):\n",
      "    '''\n",
      "    base: int or float.\n",
      "    exp: int >= 0\n",
      " \n",
      "    returns: int or float, base^exp\n",
      "    '''\n",
      "    \n",
      "    # Your code here\n",
      "    result = 1\n",
      "    while (exp >0):\n",
      "        exp = exp -1\n",
      "        result= result * base\n",
      "    return result\n"
     ],
     "language": "python",
     "metadata": {},
     "outputs": []
    },
    {
     "cell_type": "code",
     "collapsed": false,
     "input": [
      "iterPower(2,4)"
     ],
     "language": "python",
     "metadata": {},
     "outputs": [
      {
       "metadata": {},
       "output_type": "pyout",
       "prompt_number": 2,
       "text": [
        "16"
       ]
      }
     ],
     "prompt_number": 2
    },
    {
     "cell_type": "markdown",
     "metadata": {},
     "source": [
      "# Recursive Algorithms\n",
      "\n",
      "* Converting problem into simpler version of same problem\n",
      "> \"Reduce the problem to the simpler version of same problem plus small computation\"\n",
      "Recursive step\n",
      "\n",
      "* > \"keep reducing until reach the simple case which can be solve directly\"\n",
      "  * Base case\n"
     ]
    },
    {
     "cell_type": "code",
     "collapsed": false,
     "input": [
      "def recurPower(base, exp):\n",
      "    '''\n",
      "    base: int or float.\n",
      "    exp: int >= 0\n",
      " \n",
      "    returns: int or float, base^exp\n",
      "    '''\n",
      "    \n",
      "    # Your code here\n",
      "    \n",
      "    if (exp == 0):\n",
      "        return  1 #Base case\n",
      "    if (exp > 0):\n",
      "        return  base * recurPower(base, exp-1) #Recursive step\n",
      "    "
     ],
     "language": "python",
     "metadata": {},
     "outputs": [],
     "prompt_number": 7
    },
    {
     "cell_type": "code",
     "collapsed": false,
     "input": [
      "recurPower(2,1)"
     ],
     "language": "python",
     "metadata": {},
     "outputs": [
      {
       "metadata": {},
       "output_type": "pyout",
       "prompt_number": 8,
       "text": [
        "2"
       ]
      }
     ],
     "prompt_number": 8
    },
    {
     "cell_type": "code",
     "collapsed": false,
     "input": [
      "recurPower(2,0)"
     ],
     "language": "python",
     "metadata": {},
     "outputs": [
      {
       "metadata": {},
       "output_type": "pyout",
       "prompt_number": 9,
       "text": [
        "1"
       ]
      }
     ],
     "prompt_number": 9
    },
    {
     "cell_type": "code",
     "collapsed": false,
     "input": [
      "recurPower(2, 2)"
     ],
     "language": "python",
     "metadata": {},
     "outputs": [
      {
       "metadata": {},
       "output_type": "pyout",
       "prompt_number": 10,
       "text": [
        "4"
       ]
      }
     ],
     "prompt_number": 10
    },
    {
     "cell_type": "code",
     "collapsed": false,
     "input": [],
     "language": "python",
     "metadata": {},
     "outputs": []
    }
   ],
   "metadata": {}
  }
 ]
}
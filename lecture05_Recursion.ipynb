{
 "metadata": {
  "name": "",
  "signature": "sha256:b49e08ee4ddd8f45b2dcd36cd27e9b66b5665f848c1793ef00055de8d0d064a5"
 },
 "nbformat": 3,
 "nbformat_minor": 0,
 "worksheets": [
  {
   "cells": [
    {
     "cell_type": "markdown",
     "metadata": {},
     "source": [
      "#Iterative algorithms cosists of \n",
      "+State variables \n",
      "++ i - iteration number starts at b etc. initialized to particular value\n",
      "++ result - current value of computation, starts at result = 0\n",
      "\n",
      "+ Update rules\n",
      "++ i <- i-1 \n",
      "++ result <- result - 1\n",
      "\n",
      "\n"
     ]
    },
    {
     "cell_type": "code",
     "collapsed": false,
     "input": [
      "def iterPower(base, exp):\n",
      "    '''\n",
      "    base: int or float.\n",
      "    exp: int >= 0\n",
      " \n",
      "    returns: int or float, base^exp\n",
      "    '''\n",
      "    \n",
      "    # Your code here\n",
      "    result = 1\n",
      "    while (exp >0):\n",
      "        exp = exp -1\n",
      "        result= result * base\n",
      "    return result\n"
     ],
     "language": "python",
     "metadata": {},
     "outputs": []
    },
    {
     "cell_type": "code",
     "collapsed": false,
     "input": [
      "iterPower(2,4)"
     ],
     "language": "python",
     "metadata": {},
     "outputs": [
      {
       "metadata": {},
       "output_type": "pyout",
       "prompt_number": 2,
       "text": [
        "16"
       ]
      }
     ],
     "prompt_number": 2
    },
    {
     "cell_type": "markdown",
     "metadata": {},
     "source": [
      "# Recursive Algorithms\n",
      "\n",
      "* Converting problem into simpler version of same problem\n",
      "> \"Reduce the problem to the simpler version of same problem plus small computation\"\n",
      "Recursive step\n",
      "\n",
      "* > \"keep reducing until reach the simple case which can be solve directly\"\n",
      "  * Base case\n"
     ]
    },
    {
     "cell_type": "code",
     "collapsed": false,
     "input": [
      "def recurPower(base, exp):\n",
      "    '''\n",
      "    base: int or float.\n",
      "    exp: int >= 0\n",
      " \n",
      "    returns: int or float, base^exp\n",
      "    '''\n",
      "    \n",
      "    # Your code here\n",
      "    \n",
      "    if (exp == 0):\n",
      "        return  1 #Base case\n",
      "    if (exp > 0):\n",
      "        return  base * recurPower(base, exp-1) #Recursive step\n",
      "    "
     ],
     "language": "python",
     "metadata": {},
     "outputs": [],
     "prompt_number": 7
    },
    {
     "cell_type": "code",
     "collapsed": false,
     "input": [
      "recurPower(2,1)"
     ],
     "language": "python",
     "metadata": {},
     "outputs": [
      {
       "metadata": {},
       "output_type": "pyout",
       "prompt_number": 8,
       "text": [
        "2"
       ]
      }
     ],
     "prompt_number": 8
    },
    {
     "cell_type": "code",
     "collapsed": false,
     "input": [
      "def recurPowerNew(base, exp):\n",
      "    '''\n",
      "    base: int or float.\n",
      "    exp: int >= 0\n",
      "\n",
      "    returns: int or float; base^exp\n",
      "    '''\n",
      "    # Your code here\n",
      "    if ((exp%2)==0):\n",
      "        base = base * base\n",
      "        exp = exp/2\n",
      "        result = 1\n",
      "        while (exp >0):\n",
      "            exp = exp -1\n",
      "            result= result * base\n",
      "        return result\n",
      "    if (exp == 0):\n",
      "        return  1 #Base case\n",
      "    if (exp > 0):\n",
      "        return  base * recurPowerNew(base, exp-1) #Recursive step\n",
      "    "
     ],
     "language": "python",
     "metadata": {},
     "outputs": [],
     "prompt_number": 18
    },
    {
     "cell_type": "code",
     "collapsed": false,
     "input": [
      "recurPowerNew(2,4)"
     ],
     "language": "python",
     "metadata": {},
     "outputs": [
      {
       "metadata": {},
       "output_type": "pyout",
       "prompt_number": 19,
       "text": [
        "16"
       ]
      }
     ],
     "prompt_number": 19
    },
    {
     "cell_type": "code",
     "collapsed": false,
     "input": [
      "def recurPowerNew(base, exp):\n",
      "    '''\n",
      "    base: int or float.\n",
      "    exp: int >= 0\n",
      "\n",
      "    returns: int or float; base^exp\n",
      "    '''\n",
      "    # Your code here\n",
      "    if ((exp%2)==0):\n",
      "        if ((exp == 2)):\n",
      "            return base * base\n",
      "        if (exp > 2): \n",
      "            return recurPowerNew(base*base, exp/2)\n",
      "    if (exp == 0):\n",
      "        return  1 #Base case\n",
      "    if (exp > 0):\n",
      "        return  base * recurPowerNew(base, exp-1) #Recursive step\n",
      "    "
     ],
     "language": "python",
     "metadata": {},
     "outputs": [],
     "prompt_number": 3
    },
    {
     "cell_type": "code",
     "collapsed": false,
     "input": [
      "recurPowerNew(2,5)"
     ],
     "language": "python",
     "metadata": {},
     "outputs": [
      {
       "metadata": {},
       "output_type": "pyout",
       "prompt_number": 5,
       "text": [
        "32"
       ]
      }
     ],
     "prompt_number": 5
    },
    {
     "cell_type": "code",
     "collapsed": false,
     "input": [],
     "language": "python",
     "metadata": {},
     "outputs": []
    }
   ],
   "metadata": {}
  }
 ]
}
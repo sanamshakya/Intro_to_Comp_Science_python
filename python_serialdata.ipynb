{
 "metadata": {
  "name": "",
  "signature": "sha256:9b88ce0d546159aa1d99b8bbd410887cc59ae98ab393b9daa2e10a44984f9ea8"
 },
 "nbformat": 3,
 "nbformat_minor": 0,
 "worksheets": [
  {
   "cells": [
    {
     "cell_type": "code",
     "collapsed": false,
     "input": [
      "import serial\n",
      "import time\n",
      "ser = serial.Serial()\n",
      "\n",
      "time.sleep(1)\n",
      "data = ser.read(4000)\n",
      "\n",
      "fh = open(\"data.txt\", \"w\")\n",
      "fh.data(data)\n",
      "fh.close\n",
      "\n",
      "ser.close()\n"
     ],
     "language": "python",
     "metadata": {},
     "outputs": [],
     "prompt_number": 1
    }
   ],
   "metadata": {}
  }
 ]
}